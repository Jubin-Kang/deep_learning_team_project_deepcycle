{
 "cells": [
  {
   "cell_type": "code",
   "execution_count": 1,
   "metadata": {},
   "outputs": [
    {
     "name": "stdout",
     "output_type": "stream",
     "text": [
      "\n",
      "0: 480x640 1 6, 1 9, 119.3ms\n",
      "Speed: 5.9ms preprocess, 119.3ms inference, 216.3ms postprocess per image at shape (1, 3, 480, 640)\n",
      "탐지 결과를 표시합니다. 창을 닫으려면 아무 키나 누르세요.\n",
      "\n",
      "0: 480x640 1 페트 + 다중포장재, 8.8ms\n",
      "Speed: 4.1ms preprocess, 8.8ms inference, 3.8ms postprocess per image at shape (1, 3, 480, 640)\n",
      "탐지 결과를 표시합니다. 창을 닫으려면 아무 키나 누르세요.\n",
      "\n",
      "0: 480x640 1 종이, 1 페트 + 다중포장재, 17.4ms\n",
      "Speed: 3.5ms preprocess, 17.4ms inference, 3.5ms postprocess per image at shape (1, 3, 480, 640)\n",
      "탐지 결과를 표시합니다. 창을 닫으려면 아무 키나 누르세요.\n",
      "\n",
      "0: 480x640 1 종이, 1 페트 + 다중포장재, 6.0ms\n",
      "Speed: 1.3ms preprocess, 6.0ms inference, 1.3ms postprocess per image at shape (1, 3, 480, 640)\n",
      "탐지 결과를 표시합니다. 창을 닫으려면 아무 키나 누르세요.\n",
      "\n",
      "0: 480x640 1 페트 + 다중포장재, 8.4ms\n",
      "Speed: 3.3ms preprocess, 8.4ms inference, 2.9ms postprocess per image at shape (1, 3, 480, 640)\n",
      "탐지 결과를 표시합니다. 창을 닫으려면 아무 키나 누르세요.\n"
     ]
    }
   ],
   "source": [
    "import cv2\n",
    "from ultralytics import YOLO\n",
    "\n",
    "model = YOLO('/home/vit/dev_ws/project/deepcycle_project/src/12_model.pt')\n",
    "\n",
    "# 원하는 라벨 딕셔너리\n",
    "custom_names = {\n",
    "    0: \"종이\",\n",
    "    1: \"종이팩\",\n",
    "    2: \"종이컵\",\n",
    "    3: \"캔류\",\n",
    "    4: \"유리병\",\n",
    "    5: \"페트\",\n",
    "    6: \"플라스틱\",\n",
    "    7: \"비닐\",\n",
    "    8: \"유리 + 다중포장재\",\n",
    "    9: \"페트 + 다중포장재\",\n",
    "    10: \"스티로폼\",\n",
    "    11: \"건전지\"\n",
    "}\n",
    "\n",
    "cap = cv2.VideoCapture(0)\n",
    "if not cap.isOpened():\n",
    "    print(\"웹캠을 열 수 없습니다.\")\n",
    "    exit()\n",
    "\n",
    "while True:\n",
    "    ret, frame = cap.read()\n",
    "    if not ret:\n",
    "        break\n",
    "\n",
    "    cv2.imshow(\"Webcam Feed\", frame)\n",
    "    key = cv2.waitKey(1) & 0xFF\n",
    "    \n",
    "    if key == ord('c'):\n",
    "        # 1) 현재 프레임에 대해 추론\n",
    "        results = model(frame, conf=0.5)\n",
    "        \n",
    "        # 2) 결과 객체의 names를 원하는 라벨로 in-place 업데이트\n",
    "        for r in results:\n",
    "            r.names.clear()\n",
    "            r.names.update(custom_names)\n",
    "\n",
    "        # 3) 시각화\n",
    "        annotated_frame = results[0].plot()\n",
    "        \n",
    "        # 4) 결과 표시\n",
    "        cv2.imshow(\"YOLO Detection\", annotated_frame)\n",
    "        print(\"탐지 결과를 표시합니다. 창을 닫으려면 아무 키나 누르세요.\")\n",
    "        cv2.waitKey(0)\n",
    "        cv2.destroyWindow(\"YOLO Detection\")\n",
    "\n",
    "    elif key == ord('q'):\n",
    "        break\n",
    "\n",
    "cap.release()\n",
    "cv2.destroyAllWindows()\n"
   ]
  }
 ],
 "metadata": {
  "kernelspec": {
   "display_name": "eda_venv",
   "language": "python",
   "name": "python3"
  },
  "language_info": {
   "codemirror_mode": {
    "name": "ipython",
    "version": 3
   },
   "file_extension": ".py",
   "mimetype": "text/x-python",
   "name": "python",
   "nbconvert_exporter": "python",
   "pygments_lexer": "ipython3",
   "version": "3.12.3"
  }
 },
 "nbformat": 4,
 "nbformat_minor": 2
}
